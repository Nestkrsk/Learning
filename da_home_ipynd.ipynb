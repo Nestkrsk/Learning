{
  "nbformat": 4,
  "nbformat_minor": 0,
  "metadata": {
    "colab": {
      "provenance": []
    },
    "kernelspec": {
      "name": "python3",
      "display_name": "Python 3"
    },
    "language_info": {
      "name": "python"
    }
  },
  "cells": [
    {
      "cell_type": "code",
      "execution_count": null,
      "metadata": {
        "colab": {
          "base_uri": "https://localhost:8080/"
        },
        "id": "pGu7qZz6vqjq",
        "outputId": "038d36e3-ca92-402d-c613-f5c745b1b531"
      },
      "outputs": [
        {
          "output_type": "stream",
          "name": "stdout",
          "text": [
            "Hi\n"
          ]
        }
      ],
      "source": [
        "print ('Hi')"
      ]
    },
    {
      "cell_type": "code",
      "source": [
        "#a\n",
        "import numpy as np\n"
      ],
      "metadata": {
        "id": "4qD0xgHKwVkt"
      },
      "execution_count": null,
      "outputs": []
    },
    {
      "cell_type": "code",
      "source": [
        "#b\n",
        "a = np.array ([0,0,0,0,0,0,0,0,0,0], int)\n",
        "print (a)"
      ],
      "metadata": {
        "id": "PW3wAjMcwtYU",
        "colab": {
          "base_uri": "https://localhost:8080/"
        },
        "outputId": "ab22a3b2-bc04-4113-851a-50c626d8ad0e"
      },
      "execution_count": null,
      "outputs": [
        {
          "output_type": "stream",
          "name": "stdout",
          "text": [
            "[0 0 0 0 0 0 0 0 0 0]\n"
          ]
        }
      ]
    },
    {
      "cell_type": "code",
      "source": [
        "#c\n",
        "a= np.array ([1,1,1,1,1,1,1,1,1,1], int)\n",
        "print (a)"
      ],
      "metadata": {
        "colab": {
          "base_uri": "https://localhost:8080/"
        },
        "id": "QWZ6huKoj9-F",
        "outputId": "bb25b6d2-7f77-460e-a9b2-a9868e6cb7a2"
      },
      "execution_count": null,
      "outputs": [
        {
          "output_type": "stream",
          "name": "stdout",
          "text": [
            "[1 1 1 1 1 1 1 1 1 1]\n"
          ]
        }
      ]
    },
    {
      "cell_type": "code",
      "source": [
        "#d\n",
        "a= np.array ([5,5,5,5,5,5,5,5,5,5], int)\n",
        "print (a)"
      ],
      "metadata": {
        "colab": {
          "base_uri": "https://localhost:8080/"
        },
        "id": "t1EKobkokRiz",
        "outputId": "63cb9a38-f48c-41ba-9b02-150983614055"
      },
      "execution_count": null,
      "outputs": [
        {
          "output_type": "stream",
          "name": "stdout",
          "text": [
            "[5 5 5 5 5 5 5 5 5 5]\n"
          ]
        }
      ]
    },
    {
      "cell_type": "code",
      "source": [
        "#e\n",
        "a= np.arange(10,50)\n",
        "print (a)"
      ],
      "metadata": {
        "colab": {
          "base_uri": "https://localhost:8080/"
        },
        "id": "CzsdxZ6AlZvS",
        "outputId": "6ea34092-63c5-4790-a2a4-762988776416"
      },
      "execution_count": null,
      "outputs": [
        {
          "output_type": "stream",
          "name": "stdout",
          "text": [
            "[10 11 12 13 14 15 16 17 18 19 20 21 22 23 24 25 26 27 28 29 30 31 32 33\n",
            " 34 35 36 37 38 39 40 41 42 43 44 45 46 47 48 49]\n"
          ]
        }
      ]
    },
    {
      "cell_type": "code",
      "source": [
        "#f\n",
        "a= np.arange(10,50,2)\n",
        "print (a)"
      ],
      "metadata": {
        "colab": {
          "base_uri": "https://localhost:8080/"
        },
        "id": "ftmUHn-qmRcN",
        "outputId": "de54e8b5-5eb7-4885-ce5f-899c168b8fa6"
      },
      "execution_count": null,
      "outputs": [
        {
          "output_type": "stream",
          "name": "stdout",
          "text": [
            "[10 12 14 16 18 20 22 24 26 28 30 32 34 36 38 40 42 44 46 48]\n"
          ]
        }
      ]
    },
    {
      "cell_type": "code",
      "source": [
        "#g\n",
        "a = np.array([[0,1,2], \n",
        "    [3,4,5],\n",
        "    [6,7,8]])\n",
        "print (a)"
      ],
      "metadata": {
        "colab": {
          "base_uri": "https://localhost:8080/"
        },
        "id": "ZErl19EEnQdW",
        "outputId": "26347fe2-07bf-4bc6-cbdb-86bc38513abc"
      },
      "execution_count": null,
      "outputs": [
        {
          "output_type": "stream",
          "name": "stdout",
          "text": [
            "[[0 1 2]\n",
            " [3 4 5]\n",
            " [6 7 8]]\n"
          ]
        }
      ]
    },
    {
      "cell_type": "code",
      "source": [
        "#h\n",
        "a= np.identity (3)\n",
        "print (a)"
      ],
      "metadata": {
        "colab": {
          "base_uri": "https://localhost:8080/"
        },
        "id": "089TVy2omf3E",
        "outputId": "f05c02f5-1ac0-409c-f396-b9a2296e3d43"
      },
      "execution_count": null,
      "outputs": [
        {
          "output_type": "stream",
          "name": "stdout",
          "text": [
            "[[1. 0. 0.]\n",
            " [0. 1. 0.]\n",
            " [0. 0. 1.]]\n"
          ]
        }
      ]
    },
    {
      "cell_type": "code",
      "source": [
        "#i\n",
        "import random\n",
        "print (random.randrange(0,1))"
      ],
      "metadata": {
        "colab": {
          "base_uri": "https://localhost:8080/"
        },
        "id": "HyIz3tHWkkFn",
        "outputId": "58e40f3f-50b1-4cf0-df5f-1ba27153b210"
      },
      "execution_count": null,
      "outputs": [
        {
          "output_type": "stream",
          "name": "stdout",
          "text": [
            "0\n"
          ]
        }
      ]
    },
    {
      "cell_type": "code",
      "source": [
        "#j\n",
        "a= np.random.randn(25)\n",
        "print (a)"
      ],
      "metadata": {
        "colab": {
          "base_uri": "https://localhost:8080/"
        },
        "id": "Xk5Flj-7pWnX",
        "outputId": "bd330e67-5b95-4d11-ac58-f50c969f4635"
      },
      "execution_count": null,
      "outputs": [
        {
          "output_type": "stream",
          "name": "stdout",
          "text": [
            "[ 0.36583174 -0.02311187  0.37864668  0.09848989  0.48643242  0.76616723\n",
            " -1.21444962 -0.43769896 -0.36031631 -0.79143829 -0.82680475 -0.65274915\n",
            "  1.20010541 -0.80945029  0.40135033  0.29431878  0.20375696 -0.21841406\n",
            " -0.57091877  0.82277296 -0.87439977 -1.22267805 -0.16736483 -1.18479271\n",
            " -1.80101677]\n"
          ]
        }
      ]
    },
    {
      "cell_type": "code",
      "source": [
        "#k\n",
        "a = np.arange(0.01, 1, 0.01)\n",
        "\n",
        "print (a)"
      ],
      "metadata": {
        "colab": {
          "base_uri": "https://localhost:8080/"
        },
        "id": "ooAfGlIy4sIb",
        "outputId": "b7f8a887-b421-4ef1-ff50-e0b3bd4ba49a"
      },
      "execution_count": null,
      "outputs": [
        {
          "output_type": "stream",
          "name": "stdout",
          "text": [
            "[0.01 0.02 0.03 0.04 0.05 0.06 0.07 0.08 0.09 0.1  0.11 0.12 0.13 0.14\n",
            " 0.15 0.16 0.17 0.18 0.19 0.2  0.21 0.22 0.23 0.24 0.25 0.26 0.27 0.28\n",
            " 0.29 0.3  0.31 0.32 0.33 0.34 0.35 0.36 0.37 0.38 0.39 0.4  0.41 0.42\n",
            " 0.43 0.44 0.45 0.46 0.47 0.48 0.49 0.5  0.51 0.52 0.53 0.54 0.55 0.56\n",
            " 0.57 0.58 0.59 0.6  0.61 0.62 0.63 0.64 0.65 0.66 0.67 0.68 0.69 0.7\n",
            " 0.71 0.72 0.73 0.74 0.75 0.76 0.77 0.78 0.79 0.8  0.81 0.82 0.83 0.84\n",
            " 0.85 0.86 0.87 0.88 0.89 0.9  0.91 0.92 0.93 0.94 0.95 0.96 0.97 0.98\n",
            " 0.99]\n"
          ]
        }
      ]
    },
    {
      "cell_type": "code",
      "source": [
        "a = np.array ([[0.01, 0.02, 0.03, 0.04, 0.05, 0.06, 0.07, 0.08, 0.09, 0.1],\n",
        "               [0.11, 0.12, 0.13, 0.14, 0.15, 0.16, 0.17, 0.18, 0.19, 0.2],\n",
        "               [0.21, 0.22, 0.23, 0.24, 0.25, 0.26, 0.27, 0.28, 0.29, 0.3],\n",
        "               [0.31, 0.32, 0.33, 0.34, 0.35, 0.36, 0.37, 0.38, 0.39, 0.4],\n",
        "               [0.41, 0.42, 0.43, 0.44, 0.45, 0.46, 0.47, 0.4, 0.49, 0.5],\n",
        "               [0.51, 0.52, 0.53, 0.5, 0.55, 0.56, 0.57, 0.58, 0.59, 0.6],\n",
        "               [0.61, 0.62, 0.63, 0.64, 0.65, 0.66, 0.67, 0.68, 0.69, 0.7],\n",
        "               [0.71, 0.72, 0.73, 0.74, 0.75, 0.76, 0.77, 0.78, 0.79, 0.8 ],\n",
        "               [0.81, 0.82, 0.83, 0.84, 0.85, 0.86, 0.87, 0.88, 0.89, 0.9],\n",
        "               [0.91, 0.92, 0.93, 0.94, 0.95, 0.96, 0.97, 0.98, 0.99,1]])\n",
        "print (a)\n",
        "# код корявенький, но я не знаю как сделать проще))"
      ],
      "metadata": {
        "colab": {
          "base_uri": "https://localhost:8080/"
        },
        "id": "wI9V8S-9sAeS",
        "outputId": "4f119993-5b80-4a2b-de4b-c55bba146f22"
      },
      "execution_count": null,
      "outputs": [
        {
          "output_type": "stream",
          "name": "stdout",
          "text": [
            "[[0.01 0.02 0.03 0.04 0.05 0.06 0.07 0.08 0.09 0.1 ]\n",
            " [0.11 0.12 0.13 0.14 0.15 0.16 0.17 0.18 0.19 0.2 ]\n",
            " [0.21 0.22 0.23 0.24 0.25 0.26 0.27 0.28 0.29 0.3 ]\n",
            " [0.31 0.32 0.33 0.34 0.35 0.36 0.37 0.38 0.39 0.4 ]\n",
            " [0.41 0.42 0.43 0.44 0.45 0.46 0.47 0.4  0.49 0.5 ]\n",
            " [0.51 0.52 0.53 0.5  0.55 0.56 0.57 0.58 0.59 0.6 ]\n",
            " [0.61 0.62 0.63 0.64 0.65 0.66 0.67 0.68 0.69 0.7 ]\n",
            " [0.71 0.72 0.73 0.74 0.75 0.76 0.77 0.78 0.79 0.8 ]\n",
            " [0.81 0.82 0.83 0.84 0.85 0.86 0.87 0.88 0.89 0.9 ]\n",
            " [0.91 0.92 0.93 0.94 0.95 0.96 0.97 0.98 0.99 1.  ]]\n"
          ]
        }
      ]
    },
    {
      "cell_type": "code",
      "source": [],
      "metadata": {
        "id": "HfF5AB71xldA"
      },
      "execution_count": null,
      "outputs": []
    },
    {
      "cell_type": "code",
      "source": [
        "#l\n",
        "mat = np.arange(1,26).reshape(5,5)\n",
        "print (mat)"
      ],
      "metadata": {
        "colab": {
          "base_uri": "https://localhost:8080/"
        },
        "id": "jidYeyWZ8TXA",
        "outputId": "92bdbdb9-bf95-4b28-a140-31e03e012855"
      },
      "execution_count": null,
      "outputs": [
        {
          "output_type": "stream",
          "name": "stdout",
          "text": [
            "[[ 1  2  3  4  5]\n",
            " [ 6  7  8  9 10]\n",
            " [11 12 13 14 15]\n",
            " [16 17 18 19 20]\n",
            " [21 22 23 24 25]]\n"
          ]
        }
      ]
    },
    {
      "cell_type": "code",
      "source": [
        "\n",
        "mat = np.arange(1,26).reshape(5,5)\n",
        "print(mat [2,1:5])\n",
        "print(mat [3,1:5])\n",
        "print(mat [4,1:5])"
      ],
      "metadata": {
        "colab": {
          "base_uri": "https://localhost:8080/"
        },
        "id": "MrHIX7985vGj",
        "outputId": "691cb8a0-d5cc-462f-c38e-9180c24efdf1"
      },
      "execution_count": null,
      "outputs": [
        {
          "output_type": "stream",
          "name": "stdout",
          "text": [
            "[12 13 14 15]\n",
            "[17 18 19 20]\n",
            "[22 23 24 25]\n"
          ]
        }
      ]
    },
    {
      "cell_type": "code",
      "source": [
        "#m\n",
        "mat = np.arange(1,26).reshape(5,5)\n",
        "print(mat [3,4])"
      ],
      "metadata": {
        "colab": {
          "base_uri": "https://localhost:8080/"
        },
        "id": "YLzPdVVm57ia",
        "outputId": "3d2a93e2-160a-4192-f762-bff4553f9148"
      },
      "execution_count": null,
      "outputs": [
        {
          "output_type": "stream",
          "name": "stdout",
          "text": [
            "20\n"
          ]
        }
      ]
    },
    {
      "cell_type": "code",
      "source": [
        "#n\n",
        "mat = np.arange(1,26).reshape(5,5)\n",
        "a = mat [0,1]\n",
        "b = mat [1,1]\n",
        "c = mat[2,1]\n",
        "print ([a])\n",
        "print ([b])\n",
        "print ([c])"
      ],
      "metadata": {
        "colab": {
          "base_uri": "https://localhost:8080/"
        },
        "id": "QSPZpBWg9M2i",
        "outputId": "9521155e-3bae-4a20-eeca-63d84f27e3ae"
      },
      "execution_count": null,
      "outputs": [
        {
          "output_type": "stream",
          "name": "stdout",
          "text": [
            "[2]\n",
            "[7]\n",
            "[12]\n"
          ]
        }
      ]
    },
    {
      "cell_type": "code",
      "source": [
        "#o\n",
        "mat = np.arange(1,26).reshape(5,5)\n",
        "print (mat [4,0:5])"
      ],
      "metadata": {
        "colab": {
          "base_uri": "https://localhost:8080/"
        },
        "id": "Pt0zgmUz-qT4",
        "outputId": "0ff1ae08-63e9-4c81-8610-0121d9d2ada0"
      },
      "execution_count": null,
      "outputs": [
        {
          "output_type": "stream",
          "name": "stdout",
          "text": [
            "[21 22 23 24 25]\n"
          ]
        }
      ]
    },
    {
      "cell_type": "code",
      "source": [
        "#p\n",
        "mat = np.arange(1,26).reshape(5,5)\n",
        "print (mat [3,0:5])\n",
        "print (mat [4,0:5])"
      ],
      "metadata": {
        "colab": {
          "base_uri": "https://localhost:8080/"
        },
        "id": "djKlbTdl_n8Q",
        "outputId": "e2021022-072f-42fc-83d8-09f4153c41fb"
      },
      "execution_count": null,
      "outputs": [
        {
          "output_type": "stream",
          "name": "stdout",
          "text": [
            "[16 17 18 19 20]\n",
            "[21 22 23 24 25]\n"
          ]
        }
      ]
    },
    {
      "cell_type": "code",
      "source": [
        "#q\n",
        "mat = np.arange(1,26).reshape(5,5)\n",
        "print (mat)"
      ],
      "metadata": {
        "colab": {
          "base_uri": "https://localhost:8080/"
        },
        "id": "nKcIpikPABLC",
        "outputId": "a7e42e24-d3fa-4be5-dda0-ff25fc7055dd"
      },
      "execution_count": null,
      "outputs": [
        {
          "output_type": "stream",
          "name": "stdout",
          "text": [
            "[[ 1  2  3  4  5]\n",
            " [ 6  7  8  9 10]\n",
            " [11 12 13 14 15]\n",
            " [16 17 18 19 20]\n",
            " [21 22 23 24 25]]\n"
          ]
        }
      ]
    },
    {
      "cell_type": "code",
      "source": [
        "mat = np.arange(1,26).reshape(5,5)\n",
        "A = np.sum(mat)\n",
        "print (A)"
      ],
      "metadata": {
        "colab": {
          "base_uri": "https://localhost:8080/"
        },
        "id": "aBs850BDCp3H",
        "outputId": "1a0dceca-a63f-43dc-e331-61b2fa81b57c"
      },
      "execution_count": null,
      "outputs": [
        {
          "output_type": "stream",
          "name": "stdout",
          "text": [
            "325\n"
          ]
        }
      ]
    },
    {
      "cell_type": "code",
      "source": [
        "#r\n",
        "mat = np.arange(1,26).reshape(5,5)\n",
        "A = np.std(mat)\n",
        "print (A)"
      ],
      "metadata": {
        "colab": {
          "base_uri": "https://localhost:8080/"
        },
        "id": "xuhQ1G9BEf8A",
        "outputId": "bb644649-37d2-4b6b-cf4e-d3cc8c22ee88"
      },
      "execution_count": null,
      "outputs": [
        {
          "output_type": "stream",
          "name": "stdout",
          "text": [
            "7.211102550927978\n"
          ]
        }
      ]
    },
    {
      "cell_type": "code",
      "source": [
        "#s\n",
        "mat = np.arange(1,26).reshape(5,5)\n",
        "A = np.sum (mat, axis = 0)\n",
        "print (A)"
      ],
      "metadata": {
        "colab": {
          "base_uri": "https://localhost:8080/"
        },
        "id": "eQH_A3stE36y",
        "outputId": "c6046aea-faed-4cd5-a4bb-92ebda8cc409"
      },
      "execution_count": null,
      "outputs": [
        {
          "output_type": "stream",
          "name": "stdout",
          "text": [
            "[55 60 65 70 75]\n"
          ]
        }
      ]
    }
  ]
}